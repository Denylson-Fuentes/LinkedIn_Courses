{
 "cells": [
  {
   "cell_type": "code",
   "execution_count": null,
   "id": "scheduled-ladder",
   "metadata": {},
   "outputs": [],
   "source": [
    "# Steps\n",
    "1. create a corpus - break down text to list of sentences\n",
    "\n",
    "2. create a word_index.\n",
    "\n",
    "3. tokenizer the data and create an n-gram sequences for each\n",
    "sequence of the corpus\n",
    "\n",
    "4.Pad the sequences\n",
    "\n",
    "5. Segragate features from the sequences by reversing the last \n",
    "element of the arrays as labels"
   ]
  },
  {
   "cell_type": "markdown",
   "id": "color-enzyme",
   "metadata": {},
   "source": [
    "# Intro to Text Generation"
   ]
  },
  {
   "cell_type": "code",
   "execution_count": 1,
   "id": "lonely-newcastle",
   "metadata": {},
   "outputs": [],
   "source": [
    "import numpy as np\n",
    "import tensorflow as tf\n",
    "import tensorflow_datasets as tfds\n",
    "from tensorflow.keras.preprocessing.text import Tokenizer\n",
    "from tensorflow.keras.preprocessing.sequence import pad_sequences\n"
   ]
  },
  {
   "cell_type": "markdown",
   "id": "future-gallery",
   "metadata": {},
   "source": [
    "# Step 1 : Create Corpus"
   ]
  },
  {
   "cell_type": "code",
   "execution_count": 2,
   "id": "early-tampa",
   "metadata": {},
   "outputs": [],
   "source": [
    "data = \"October arrived, spreading a damp chill over the grounds and  into the castle.\""
   ]
  },
  {
   "cell_type": "code",
   "execution_count": 3,
   "id": "commercial-vinyl",
   "metadata": {},
   "outputs": [
    {
     "name": "stdout",
     "output_type": "stream",
     "text": [
      "['october arrived, spreading a damp chill over the grounds and  into the castle.']\n"
     ]
    }
   ],
   "source": [
    "#instantiate tokenizer\n",
    "tokenizer = Tokenizer()\n",
    "\n",
    "#create the corpus by lower the letter and splitting the text\n",
    "corpus = data.lower().split(\"\\n\")\n",
    "print(corpus)"
   ]
  },
  {
   "cell_type": "markdown",
   "id": "alike-kazakhstan",
   "metadata": {},
   "source": [
    "# Step 2: Train the tokenizer and create word encoding dictionary"
   ]
  },
  {
   "cell_type": "code",
   "execution_count": 4,
   "id": "amazing-specialist",
   "metadata": {},
   "outputs": [],
   "source": [
    "tokenizer.fit_on_texts(corpus)\n",
    "\n",
    "vocab_size = len(tokenizer.word_index) + 1\n"
   ]
  },
  {
   "cell_type": "markdown",
   "id": "mathematical-brass",
   "metadata": {},
   "source": [
    "# Step 3: Create N-gram sequence"
   ]
  },
  {
   "cell_type": "code",
   "execution_count": 5,
   "id": "attractive-columbia",
   "metadata": {},
   "outputs": [],
   "source": [
    "input_sequences = []\n",
    "for line in corpus:\n",
    "    tokens = tokenizer.texts_to_sequences([line])[0] #get all tokens of sequences\n",
    "    for i in range(1, len(tokens)): #create n-gram sequences\n",
    "        n_gram_sequence = tokens[:i+1]\n",
    "        input_sequences.append(n_gram_sequence)"
   ]
  },
  {
   "cell_type": "code",
   "execution_count": 6,
   "id": "following-newcastle",
   "metadata": {},
   "outputs": [],
   "source": [
    "# pad the sequences\n",
    "max_seq_len = max(len(i) for i in input_sequences)\n",
    "input_seq_array = np.array(pad_sequences(input_sequences,\n",
    "                                        maxlen = max_seq_len,\n",
    "                                        padding = 'pre')\n",
    "                          )"
   ]
  },
  {
   "cell_type": "markdown",
   "id": "stable-midwest",
   "metadata": {},
   "source": [
    "# Step 4 : Extract features and Labels"
   ]
  },
  {
   "cell_type": "code",
   "execution_count": 8,
   "id": "convertible-animal",
   "metadata": {},
   "outputs": [],
   "source": [
    "#creating features(x) and label(y)\n",
    "X = input_seq_array[:, : -1]\n",
    "labels = input_seq_array[:, -1]\n",
    "\n",
    "#one-hot encode the labels to get Y\n",
    "y = tf.keras.utils.to_categorical(labels, num_classes = vocab_size)\n"
   ]
  },
  {
   "cell_type": "code",
   "execution_count": 13,
   "id": "sorted-dress",
   "metadata": {},
   "outputs": [
    {
     "name": "stdout",
     "output_type": "stream",
     "text": [
      "Epoch 1/100\n",
      "1/1 [==============================] - 0s 0s/step - loss: 2.5652 - accuracy: 0.0000e+00\n",
      "Epoch 2/100\n",
      "1/1 [==============================] - 0s 0s/step - loss: 2.5585 - accuracy: 0.0000e+00\n",
      "Epoch 3/100\n",
      "1/1 [==============================] - 0s 1ms/step - loss: 2.5519 - accuracy: 0.0000e+00\n",
      "Epoch 4/100\n",
      "1/1 [==============================] - 0s 998us/step - loss: 2.5453 - accuracy: 0.0833\n",
      "Epoch 5/100\n",
      "1/1 [==============================] - 0s 998us/step - loss: 2.5386 - accuracy: 0.1667\n",
      "Epoch 6/100\n",
      "1/1 [==============================] - 0s 998us/step - loss: 2.5319 - accuracy: 0.1667\n",
      "Epoch 7/100\n",
      "1/1 [==============================] - 0s 1ms/step - loss: 2.5249 - accuracy: 0.1667\n",
      "Epoch 8/100\n",
      "1/1 [==============================] - 0s 996us/step - loss: 2.5177 - accuracy: 0.1667\n",
      "Epoch 9/100\n",
      "1/1 [==============================] - 0s 1ms/step - loss: 2.5102 - accuracy: 0.1667\n",
      "Epoch 10/100\n",
      "1/1 [==============================] - 0s 0s/step - loss: 2.5023 - accuracy: 0.1667\n",
      "Epoch 11/100\n",
      "1/1 [==============================] - 0s 997us/step - loss: 2.4940 - accuracy: 0.1667\n",
      "Epoch 12/100\n",
      "1/1 [==============================] - 0s 1ms/step - loss: 2.4852 - accuracy: 0.1667\n",
      "Epoch 13/100\n",
      "1/1 [==============================] - 0s 1ms/step - loss: 2.4759 - accuracy: 0.1667\n",
      "Epoch 14/100\n",
      "1/1 [==============================] - 0s 998us/step - loss: 2.4659 - accuracy: 0.1667\n",
      "Epoch 15/100\n",
      "1/1 [==============================] - 0s 0s/step - loss: 2.4552 - accuracy: 0.1667\n",
      "Epoch 16/100\n",
      "1/1 [==============================] - 0s 1ms/step - loss: 2.4437 - accuracy: 0.1667\n",
      "Epoch 17/100\n",
      "1/1 [==============================] - 0s 998us/step - loss: 2.4313 - accuracy: 0.1667\n",
      "Epoch 18/100\n",
      "1/1 [==============================] - 0s 997us/step - loss: 2.4179 - accuracy: 0.1667\n",
      "Epoch 19/100\n",
      "1/1 [==============================] - 0s 0s/step - loss: 2.4033 - accuracy: 0.1667\n",
      "Epoch 20/100\n",
      "1/1 [==============================] - 0s 890us/step - loss: 2.3876 - accuracy: 0.1667\n",
      "Epoch 21/100\n",
      "1/1 [==============================] - 0s 0s/step - loss: 2.3705 - accuracy: 0.1667\n",
      "Epoch 22/100\n",
      "1/1 [==============================] - 0s 0s/step - loss: 2.3519 - accuracy: 0.1667\n",
      "Epoch 23/100\n",
      "1/1 [==============================] - 0s 1ms/step - loss: 2.3318 - accuracy: 0.1667\n",
      "Epoch 24/100\n",
      "1/1 [==============================] - 0s 0s/step - loss: 2.3099 - accuracy: 0.1667\n",
      "Epoch 25/100\n",
      "1/1 [==============================] - 0s 1ms/step - loss: 2.2862 - accuracy: 0.2500\n",
      "Epoch 26/100\n",
      "1/1 [==============================] - 0s 1ms/step - loss: 2.2605 - accuracy: 0.2500\n",
      "Epoch 27/100\n",
      "1/1 [==============================] - 0s 996us/step - loss: 2.2328 - accuracy: 0.2500\n",
      "Epoch 28/100\n",
      "1/1 [==============================] - 0s 1ms/step - loss: 2.2030 - accuracy: 0.2500\n",
      "Epoch 29/100\n",
      "1/1 [==============================] - 0s 0s/step - loss: 2.1712 - accuracy: 0.2500\n",
      "Epoch 30/100\n",
      "1/1 [==============================] - 0s 0s/step - loss: 2.1374 - accuracy: 0.2500\n",
      "Epoch 31/100\n",
      "1/1 [==============================] - 0s 1ms/step - loss: 2.1018 - accuracy: 0.3333\n",
      "Epoch 32/100\n",
      "1/1 [==============================] - 0s 1ms/step - loss: 2.0646 - accuracy: 0.3333\n",
      "Epoch 33/100\n",
      "1/1 [==============================] - 0s 1ms/step - loss: 2.0262 - accuracy: 0.3333\n",
      "Epoch 34/100\n",
      "1/1 [==============================] - 0s 0s/step - loss: 1.9869 - accuracy: 0.3333\n",
      "Epoch 35/100\n",
      "1/1 [==============================] - 0s 0s/step - loss: 1.9473 - accuracy: 0.3333\n",
      "Epoch 36/100\n",
      "1/1 [==============================] - 0s 0s/step - loss: 1.9078 - accuracy: 0.3333\n",
      "Epoch 37/100\n",
      "1/1 [==============================] - 0s 0s/step - loss: 1.8690 - accuracy: 0.3333\n",
      "Epoch 38/100\n",
      "1/1 [==============================] - 0s 0s/step - loss: 1.8314 - accuracy: 0.3333\n",
      "Epoch 39/100\n",
      "1/1 [==============================] - 0s 0s/step - loss: 1.7952 - accuracy: 0.3333\n",
      "Epoch 40/100\n",
      "1/1 [==============================] - 0s 998us/step - loss: 1.7608 - accuracy: 0.4167\n",
      "Epoch 41/100\n",
      "1/1 [==============================] - 0s 0s/step - loss: 1.7284 - accuracy: 0.4167\n",
      "Epoch 42/100\n",
      "1/1 [==============================] - 0s 0s/step - loss: 1.6979 - accuracy: 0.4167\n",
      "Epoch 43/100\n",
      "1/1 [==============================] - 0s 0s/step - loss: 1.6691 - accuracy: 0.4167\n",
      "Epoch 44/100\n",
      "1/1 [==============================] - 0s 1ms/step - loss: 1.6418 - accuracy: 0.4167\n",
      "Epoch 45/100\n",
      "1/1 [==============================] - 0s 1ms/step - loss: 1.6156 - accuracy: 0.4167\n",
      "Epoch 46/100\n",
      "1/1 [==============================] - 0s 1ms/step - loss: 1.5901 - accuracy: 0.4167\n",
      "Epoch 47/100\n",
      "1/1 [==============================] - 0s 0s/step - loss: 1.5651 - accuracy: 0.5000\n",
      "Epoch 48/100\n",
      "1/1 [==============================] - 0s 0s/step - loss: 1.5406 - accuracy: 0.5000\n",
      "Epoch 49/100\n",
      "1/1 [==============================] - 0s 0s/step - loss: 1.5166 - accuracy: 0.5000\n",
      "Epoch 50/100\n",
      "1/1 [==============================] - 0s 0s/step - loss: 1.4930 - accuracy: 0.5833\n",
      "Epoch 51/100\n",
      "1/1 [==============================] - 0s 0s/step - loss: 1.4698 - accuracy: 0.6667\n",
      "Epoch 52/100\n",
      "1/1 [==============================] - 0s 999us/step - loss: 1.4468 - accuracy: 0.5833\n",
      "Epoch 53/100\n",
      "1/1 [==============================] - 0s 0s/step - loss: 1.4240 - accuracy: 0.5833\n",
      "Epoch 54/100\n",
      "1/1 [==============================] - 0s 998us/step - loss: 1.4015 - accuracy: 0.5833\n",
      "Epoch 55/100\n",
      "1/1 [==============================] - 0s 997us/step - loss: 1.3794 - accuracy: 0.5000\n",
      "Epoch 56/100\n",
      "1/1 [==============================] - 0s 999us/step - loss: 1.3577 - accuracy: 0.5000\n",
      "Epoch 57/100\n",
      "1/1 [==============================] - 0s 998us/step - loss: 1.3364 - accuracy: 0.5000\n",
      "Epoch 58/100\n",
      "1/1 [==============================] - 0s 0s/step - loss: 1.3153 - accuracy: 0.5000\n",
      "Epoch 59/100\n",
      "1/1 [==============================] - 0s 0s/step - loss: 1.2942 - accuracy: 0.5000\n",
      "Epoch 60/100\n",
      "1/1 [==============================] - 0s 0s/step - loss: 1.2733 - accuracy: 0.5000\n",
      "Epoch 61/100\n",
      "1/1 [==============================] - 0s 0s/step - loss: 1.2525 - accuracy: 0.5000\n",
      "Epoch 62/100\n",
      "1/1 [==============================] - 0s 998us/step - loss: 1.2317 - accuracy: 0.6667\n",
      "Epoch 63/100\n",
      "1/1 [==============================] - 0s 0s/step - loss: 1.2111 - accuracy: 0.7500\n",
      "Epoch 64/100\n",
      "1/1 [==============================] - 0s 997us/step - loss: 1.1907 - accuracy: 0.7500\n",
      "Epoch 65/100\n",
      "1/1 [==============================] - 0s 998us/step - loss: 1.1708 - accuracy: 0.7500\n",
      "Epoch 66/100\n",
      "1/1 [==============================] - 0s 0s/step - loss: 1.1512 - accuracy: 0.7500\n",
      "Epoch 67/100\n",
      "1/1 [==============================] - 0s 0s/step - loss: 1.1318 - accuracy: 0.7500\n",
      "Epoch 68/100\n",
      "1/1 [==============================] - 0s 0s/step - loss: 1.1127 - accuracy: 0.7500\n",
      "Epoch 69/100\n",
      "1/1 [==============================] - 0s 997us/step - loss: 1.0938 - accuracy: 0.7500\n",
      "Epoch 70/100\n",
      "1/1 [==============================] - 0s 997us/step - loss: 1.0751 - accuracy: 0.8333\n",
      "Epoch 71/100\n",
      "1/1 [==============================] - 0s 998us/step - loss: 1.0566 - accuracy: 0.8333\n",
      "Epoch 72/100\n",
      "1/1 [==============================] - 0s 997us/step - loss: 1.0383 - accuracy: 0.8333\n",
      "Epoch 73/100\n",
      "1/1 [==============================] - 0s 997us/step - loss: 1.0202 - accuracy: 0.8333\n",
      "Epoch 74/100\n",
      "1/1 [==============================] - 0s 998us/step - loss: 1.0021 - accuracy: 0.8333\n",
      "Epoch 75/100\n",
      "1/1 [==============================] - 0s 998us/step - loss: 0.9841 - accuracy: 0.8333\n",
      "Epoch 76/100\n",
      "1/1 [==============================] - 0s 0s/step - loss: 0.9664 - accuracy: 0.8333\n",
      "Epoch 77/100\n",
      "1/1 [==============================] - 0s 998us/step - loss: 0.9489 - accuracy: 0.8333\n",
      "Epoch 78/100\n",
      "1/1 [==============================] - 0s 998us/step - loss: 0.9318 - accuracy: 0.8333\n",
      "Epoch 79/100\n",
      "1/1 [==============================] - 0s 1ms/step - loss: 0.9151 - accuracy: 0.8333\n",
      "Epoch 80/100\n",
      "1/1 [==============================] - 0s 1ms/step - loss: 0.8985 - accuracy: 0.8333\n",
      "Epoch 81/100\n",
      "1/1 [==============================] - 0s 998us/step - loss: 0.8821 - accuracy: 0.8333\n",
      "Epoch 82/100\n",
      "1/1 [==============================] - 0s 1ms/step - loss: 0.8659 - accuracy: 0.9167\n",
      "Epoch 83/100\n",
      "1/1 [==============================] - 0s 997us/step - loss: 0.8499 - accuracy: 0.9167\n",
      "Epoch 84/100\n"
     ]
    },
    {
     "name": "stdout",
     "output_type": "stream",
     "text": [
      "1/1 [==============================] - 0s 0s/step - loss: 0.8342 - accuracy: 0.9167\n",
      "Epoch 85/100\n",
      "1/1 [==============================] - 0s 999us/step - loss: 0.8185 - accuracy: 0.9167\n",
      "Epoch 86/100\n",
      "1/1 [==============================] - 0s 999us/step - loss: 0.8031 - accuracy: 1.0000\n",
      "Epoch 87/100\n",
      "1/1 [==============================] - 0s 0s/step - loss: 0.7879 - accuracy: 1.0000\n",
      "Epoch 88/100\n",
      "1/1 [==============================] - 0s 0s/step - loss: 0.7729 - accuracy: 1.0000\n",
      "Epoch 89/100\n",
      "1/1 [==============================] - 0s 1ms/step - loss: 0.7581 - accuracy: 1.0000\n",
      "Epoch 90/100\n",
      "1/1 [==============================] - 0s 1ms/step - loss: 0.7435 - accuracy: 1.0000\n",
      "Epoch 91/100\n",
      "1/1 [==============================] - 0s 0s/step - loss: 0.7290 - accuracy: 1.0000\n",
      "Epoch 92/100\n",
      "1/1 [==============================] - 0s 996us/step - loss: 0.7147 - accuracy: 1.0000\n",
      "Epoch 93/100\n",
      "1/1 [==============================] - 0s 998us/step - loss: 0.7005 - accuracy: 1.0000\n",
      "Epoch 94/100\n",
      "1/1 [==============================] - 0s 0s/step - loss: 0.6864 - accuracy: 1.0000\n",
      "Epoch 95/100\n",
      "1/1 [==============================] - 0s 1ms/step - loss: 0.6725 - accuracy: 1.0000\n",
      "Epoch 96/100\n",
      "1/1 [==============================] - 0s 998us/step - loss: 0.6589 - accuracy: 1.0000\n",
      "Epoch 97/100\n",
      "1/1 [==============================] - 0s 0s/step - loss: 0.6454 - accuracy: 1.0000\n",
      "Epoch 98/100\n",
      "1/1 [==============================] - 0s 998us/step - loss: 0.6321 - accuracy: 1.0000\n",
      "Epoch 99/100\n",
      "1/1 [==============================] - 0s 0s/step - loss: 0.6191 - accuracy: 1.0000\n",
      "Epoch 100/100\n",
      "1/1 [==============================] - 0s 0s/step - loss: 0.6063 - accuracy: 1.0000\n"
     ]
    }
   ],
   "source": [
    "# Create LSTM model\n",
    "\n",
    "model = tf.keras.Sequential([\n",
    "    tf.keras.layers.Embedding(vocab_size, 64, input_length = max_seq_len -1),\n",
    "    tf.keras.layers.Bidirectional(tf.keras.layers.LSTM(32)),\n",
    "    tf.keras.layers.Dense(vocab_size, activation = 'softmax')\n",
    "])\n",
    "\n",
    "model.compile(loss = 'categorical_crossentropy', optimizer = 'adam', metrics = ['accuracy'])\n",
    "history = model.fit(X, y, epochs = 100, verbose = 1)"
   ]
  },
  {
   "cell_type": "code",
   "execution_count": 15,
   "id": "comfortable-saturday",
   "metadata": {},
   "outputs": [
    {
     "data": {
      "image/png": "[encoded data removed]",
      "text/plain": [
       "<Figure size 432x288 with 1 Axes>"
      ]
     },
     "metadata": {
      "needs_background": "light"
     },
     "output_type": "display_data"
    }
   ],
   "source": [
    "import matplotlib.pyplot as plt\n",
    "\n",
    "def plot_metric(history, metric):\n",
    "    plt.plot(history.history[metric])\n",
    "    plt.xlabel(\"epochs\")\n",
    "    plt.ylabel(metric)\n",
    "    plt.show\n",
    "\n",
    "plot_metric(history, 'accuracy')"
   ]
  },
  {
   "cell_type": "code",
   "execution_count": 16,
   "id": "swiss-mathematics",
   "metadata": {},
   "outputs": [
    {
     "name": "stdout",
     "output_type": "stream",
     "text": [
      "WARNING:tensorflow:From <ipython-input-16-50ebbe9439bb>:12: Sequential.predict_classes (from tensorflow.python.keras.engine.sequential) is deprecated and will be removed after 2021-01-01.\n",
      "Instructions for updating:\n",
      "Please use instead:* `np.argmax(model.predict(x), axis=-1)`,   if your model does multi-class classification   (e.g. if it uses a `softmax` last-layer activation).* `(model.predict(x) > 0.5).astype(\"int32\")`,   if your model does binary classification   (e.g. if it uses a `sigmoid` last-layer activation).\n",
      "It was a cold night arrived spreading a chill over the grounds and into the castle castle castle castle castle castle castle the castle castle the castle castle castle castle the castle castle castle the castle castle castle the castle castle castle castle the castle castle castle the castle castle castle the castle castle castle castle the castle castle castle the castle castle castle the castle castle castle castle the castle castle castle the castle castle castle the castle castle castle castle the castle castle castle the castle castle castle the castle castle castle castle the castle castle castle the castle castle castle the castle\n"
     ]
    }
   ],
   "source": [
    "#Generate new Text\n",
    "\n",
    "seed_text = \"It was a cold night\"\n",
    "\n",
    "next_words = 100\n",
    "\n",
    "for _ in range(next_words):\n",
    "    token_list = tokenizer.texts_to_sequences([seed_text])[0]\n",
    "    token_list = pad_sequences([token_list], maxlen = max_seq_len -1, padding = 'pre')\n",
    "    \n",
    "    #predict the class using trained model\n",
    "    predicted = model.predict_classes(token_list, verbose= 0)\n",
    "    output = \"\"\n",
    "    for word, index in tokenizer.word_index.items():\n",
    "        if index == predicted:\n",
    "            output = word\n",
    "            break\n",
    "    seed_text += \" \" + output\n",
    "\n",
    "print(seed_text)"
   ]
  },
  {
   "cell_type": "markdown",
   "id": "touched-contrast",
   "metadata": {},
   "source": [
    "# Challenge: Generate Poetry"
   ]
  },
  {
   "cell_type": "code",
   "execution_count": null,
   "id": "electronic-nitrogen",
   "metadata": {},
   "outputs": [],
   "source": []
  }
 ],
 "metadata": {
  "kernelspec": {
   "display_name": "Python 3",
   "language": "python",
   "name": "python3"
  },
  "language_info": {
   "codemirror_mode": {
    "name": "ipython",
    "version": 3
   },
   "file_extension": ".py",
   "mimetype": "text/x-python",
   "name": "python",
   "nbconvert_exporter": "python",
   "pygments_lexer": "ipython3",
   "version": "3.7.9"
  }
 },
 "nbformat": 4,
 "nbformat_minor": 5
}
